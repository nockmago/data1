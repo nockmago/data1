{
    "cells": [
        {
            "cell_type": "markdown",
            "metadata": {},
            "source": "Description"
        },
        {
            "cell_type": "code",
            "execution_count": 1,
            "metadata": {},
            "outputs": [
                {
                    "data": {
                        "text/html": "<div>\n<style scoped>\n    .dataframe tbody tr th:only-of-type {\n        vertical-align: middle;\n    }\n\n    .dataframe tbody tr th {\n        vertical-align: top;\n    }\n\n    .dataframe thead th {\n        text-align: right;\n    }\n</style>\n<table border=\"1\" class=\"dataframe\">\n  <thead>\n    <tr style=\"text-align: right;\">\n      <th></th>\n      <th>No</th>\n      <th>Keyword</th>\n      <th>Search Volume</th>\n      <th>CPC</th>\n      <th>Paid Difficulty</th>\n      <th>Search Difficulty</th>\n    </tr>\n  </thead>\n  <tbody>\n    <tr>\n      <th>0</th>\n      <td>1</td>\n      <td>\u745c\u73c8</td>\n      <td>27100</td>\n      <td>NT$14.00</td>\n      <td>27</td>\n      <td>48</td>\n    </tr>\n    <tr>\n      <th>1</th>\n      <td>2</td>\n      <td>\u745c\u73c8\u588a</td>\n      <td>14800</td>\n      <td>NT$6.25</td>\n      <td>100</td>\n      <td>66</td>\n    </tr>\n    <tr>\n      <th>2</th>\n      <td>3</td>\n      <td>\u745c\u73c8\u7403</td>\n      <td>4400</td>\n      <td>NT$3.08</td>\n      <td>100</td>\n      <td>63</td>\n    </tr>\n    <tr>\n      <th>3</th>\n      <td>4</td>\n      <td>\u745c\u73c8\u52d5\u4f5c</td>\n      <td>4400</td>\n      <td>NT$8.18</td>\n      <td>19</td>\n      <td>38</td>\n    </tr>\n    <tr>\n      <th>4</th>\n      <td>5</td>\n      <td>\u745c\u73c8\u670d</td>\n      <td>3600</td>\n      <td>NT$13.27</td>\n      <td>100</td>\n      <td>63</td>\n    </tr>\n  </tbody>\n</table>\n</div>",
                        "text/plain": "   No Keyword  Search Volume       CPC  Paid Difficulty  Search Difficulty\n0   1      \u745c\u73c8          27100  NT$14.00               27                 48\n1   2     \u745c\u73c8\u588a          14800   NT$6.25              100                 66\n2   3     \u745c\u73c8\u7403           4400   NT$3.08              100                 63\n3   4    \u745c\u73c8\u52d5\u4f5c           4400   NT$8.18               19                 38\n4   5     \u745c\u73c8\u670d           3600  NT$13.27              100                 63"
                    },
                    "execution_count": 1,
                    "metadata": {},
                    "output_type": "execute_result"
                }
            ],
            "source": "# The code was removed by Watson Studio for sharing."
        },
        {
            "cell_type": "code",
            "execution_count": null,
            "metadata": {},
            "outputs": [],
            "source": ""
        }
    ],
    "metadata": {
        "kernelspec": {
            "display_name": "Python 3.6",
            "language": "python",
            "name": "python3"
        },
        "language_info": {
            "codemirror_mode": {
                "name": "ipython",
                "version": 3
            },
            "file_extension": ".py",
            "mimetype": "text/x-python",
            "name": "python",
            "nbconvert_exporter": "python",
            "pygments_lexer": "ipython3",
            "version": "3.6.9"
        }
    },
    "nbformat": 4,
    "nbformat_minor": 1
}